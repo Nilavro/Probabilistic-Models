{
 "cells": [
  {
   "cell_type": "code",
   "execution_count": 1,
   "metadata": {},
   "outputs": [
    {
     "name": "stderr",
     "output_type": "stream",
     "text": [
      "/home/nilavro/irleak/lib/python3.5/site-packages/h5py/__init__.py:36: FutureWarning: Conversion of the second argument of issubdtype from `float` to `np.floating` is deprecated. In future, it will be treated as `np.float64 == np.dtype(float).type`.\n",
      "  from ._conv import register_converters as _register_converters\n"
     ]
    }
   ],
   "source": [
    "import pymc3 as pm\n",
    "import theano.tensor as tt\n",
    "import theano.tensor.slinalg as sla\n",
    "import theano.tensor.nlinalg as nla\n",
    "import matplotlib.pyplot as plt\n",
    "import numpy as np\n",
    "%matplotlib inline"
   ]
  },
  {
   "cell_type": "code",
   "execution_count": 2,
   "metadata": {},
   "outputs": [],
   "source": [
    "x , y = np.loadtxt( 'test_data.txt', delimiter=',', skiprows = 1,   unpack=True)\n",
    "\n",
    "\n"
   ]
  },
  {
   "cell_type": "code",
   "execution_count": 3,
   "metadata": {},
   "outputs": [],
   "source": [
    "N_states = 2\n",
    "N_chain = len(y)\n",
    "\n",
    "# Transition probability stochastic\n",
    "theta = np.ones((N_states,N_states)) + 1.\n",
    "alphaA = np.ones(N_states)*2.1\n",
    "betaA = np.ones(N_states)*1.1\n",
    "alphaS = np.ones(N_states)*2.1\n",
    "betaS = np.ones(N_states)*1.1"
   ]
  },
  {
   "cell_type": "code",
   "execution_count": 7,
   "metadata": {},
   "outputs": [],
   "source": [
    "class HMMStatesN(pm.Categorical):\n",
    "    \"\"\"\n",
    "    Hidden Markov Model States\n",
    "    Parameters\n",
    "    ----------\n",
    "    P : tensor\n",
    "        transition probability\n",
    "        shape = (N_states,N_states)\n",
    "        \n",
    "    PA : tensor\n",
    "         equilibrium probabilities\n",
    "         shape = (N_states)\n",
    "    \n",
    "    \"\"\"\n",
    "\n",
    "    def __init__(self, PA=None, P=None, N_states=2,\n",
    "                 *args, **kwargs):\n",
    "        super(pm.Categorical, self).__init__(*args, **kwargs)\n",
    "        self.P = P\n",
    "        self.PA = PA\n",
    "        self.k = N_states\n",
    "        self.mode = tt.cast(0,dtype='int64')\n",
    "\n",
    "    def logp(self, x):\n",
    "        P = self.P\n",
    "        PA = self.PA\n",
    "        \n",
    "        # calculate equilibrium\n",
    "        \n",
    "        # now we need to create an array with probabilities\n",
    "        # so that for x=A: PA=P1, PB=(1-P1)\n",
    "        # and for x=B: PA=P2, PB=(1-P2)\n",
    "        #P = tt.switch(x[:-1],P1,P2)\n",
    "        \n",
    "        PS = P[x[:-1]]\n",
    "                \n",
    "        x_i = x[1:]\n",
    "        ou_like = pm.Categorical.dist(PS).logp(x_i)\n",
    "        return pm.Categorical.dist(PA).logp(x[0]) + tt.sum(ou_like)"
   ]
  },
  {
   "cell_type": "code",
   "execution_count": 8,
   "metadata": {},
   "outputs": [],
   "source": [
    "class HMMGaussianEmissionsN(pm.Continuous):\n",
    "    \"\"\"\n",
    "    Hidden Markov Model Gaussian Emissions\n",
    "    Parameters\n",
    "    ----------\n",
    "    A : tensor\n",
    "        prior for Gaussian emission mu\n",
    "        shape = (2,N_states)\n",
    "        \n",
    "    S : tensor\n",
    "        prior for Gaussian emission width\n",
    "        shape = (2,N_states)\n",
    "    \n",
    "    states : tensor\n",
    "         equilibrium probabilities\n",
    "         shape = (N_states)\n",
    "    \n",
    "    \"\"\"\n",
    "\n",
    "    def __init__(self, A=None, S=None, states=None,\n",
    "                 *args, **kwargs):\n",
    "        super(HMMGaussianEmissionsN, self).__init__(*args, **kwargs)\n",
    "        self.A = A\n",
    "        self.S = S\n",
    "        self.states = states\n",
    "        self.mean = 0.\n",
    "\n",
    "    def logp(self, x):\n",
    "        A = self.A\n",
    "        S = self.S\n",
    "        states = self.states\n",
    "        \n",
    "        AS = A[states]        \n",
    "        SS = S[states]\n",
    "        \n",
    "        ou_like = pm.Normal.dist(mu=AS,sd=SS).logp(x)\n",
    "        return tt.sum(ou_like)"
   ]
  },
  {
   "cell_type": "code",
   "execution_count": 28,
   "metadata": {},
   "outputs": [
    {
     "data": {
      "text/plain": [
       "1000"
      ]
     },
     "execution_count": 28,
     "metadata": {},
     "output_type": "execute_result"
    }
   ],
   "source": [
    "len(y)"
   ]
  },
  {
   "cell_type": "code",
   "execution_count": 31,
   "metadata": {},
   "outputs": [
    {
     "name": "stderr",
     "output_type": "stream",
     "text": [
      "/home/nilavro/irleak/lib/python3.5/site-packages/pymc3/tuning/starting.py:92: UserWarning: In future versions, set the optimization algorithm with a string. For example, use `method=\"L-BFGS-B\"` instead of `fmin=sp.optimize.fmin_l_bfgs_b\"`.\n",
      "  warnings.warn('In future versions, set the optimization algorithm with a string. '\n",
      "logp = -1,408.9:   5%|▍         | 230/5000 [00:01<00:24, 193.07it/s]"
     ]
    },
    {
     "name": "stdout",
     "output_type": "stream",
     "text": [
      "Optimization terminated successfully.\n",
      "         Current function value: 1408.918917\n",
      "         Iterations: 3\n",
      "         Function evaluations: 235\n"
     ]
    },
    {
     "name": "stderr",
     "output_type": "stream",
     "text": [
      "logp = -1,408.9:   5%|▍         | 235/5000 [00:07<02:29, 31.78it/s] \n",
      "Multiprocess sampling (4 chains in 4 jobs)\n",
      "CompoundStep\n",
      ">CompoundStep\n",
      ">>Metropolis: [P_stickbreaking__]\n",
      ">>Metropolis: [S_log__]\n",
      ">>Metropolis: [A_log__]\n",
      ">CategoricalGibbsMetropolis: [states]\n",
      "100%|██████████| 510/510 [09:13<00:00,  1.09s/it]\n",
      "The number of effective samples is smaller than 10% for some parameters.\n"
     ]
    }
   ],
   "source": [
    "from scipy import optimize\n",
    "with pm.Model() as model:\n",
    "    # N_states state model\n",
    "    #P = tt.stack( [pm.Dirichlet('P_'+str(i), a=np.ones(N_states)) for i in rangdisaster_modele(N_states)] )\n",
    "    \n",
    "    P = pm.Dirichlet('P', a=np.ones((N_states,N_states)), shape=(N_states,N_states))\n",
    "    A = pm.InverseGamma('A',alpha=alphaA, beta=betaA, shape=(N_states))\n",
    "    S = pm.InverseGamma('S', alpha=alphaS, beta=betaS, shape=(N_states))\n",
    "    \n",
    "#    Pfull = tt.dmatrix('Pfull')\n",
    "#    PA = tt.dmatrix('PA')\n",
    "    AA = tt.dmatrix('AA')\n",
    "        \n",
    "    AA = tt.eye(N_states) - P + tt.ones(shape=(N_states,N_states))\n",
    "    \n",
    "    PA = pm.Deterministic('PA',sla.solve(AA.T,tt.ones(shape=(N_states))))\n",
    "    \n",
    "    states = HMMStatesN('states',PA=PA, P=P, N_states=N_states, shape=(len(y),))\n",
    "    \n",
    "    emission = HMMGaussianEmissionsN('emission',A = A, S = S, states=states,observed = y)\n",
    "    start = pm.find_MAP(fmin=optimize.fmin_powell)\n",
    "    step1 = pm.Metropolis(vars=[P,A,S,PA,emission])\n",
    "    step2 = pm.CategoricalGibbsMetropolis(vars=[states])\n",
    "    trace = pm.sample(10, start=start, step=[step1,step2])    \n",
    "    "
   ]
  },
  {
   "cell_type": "code",
   "execution_count": 30,
   "metadata": {},
   "outputs": [
    {
     "name": "stderr",
     "output_type": "stream",
     "text": [
      "  0%|          | 0/10000 [00:00<?, ?it/s]\n"
     ]
    },
    {
     "ename": "IndexError",
     "evalue": "index 2 is out of bounds for size 2\nApply node that caused the error: AdvancedSubtensor1(P, Subtensor{:int64:}.0)\nToposort index: 82\nInputs types: [TensorType(float64, matrix), TensorType(int64, vector)]\nInputs shapes: [(2, 2), (999,)]\nInputs strides: [(8, 16), (8,)]\nInputs values: [array([[0.2485256 , 0.7514744 ],\n       [0.62193988, 0.37806012]]), 'not shown']\nOutputs clients: [[Sum{axis=[1], acc_dtype=float64}(AdvancedSubtensor1.0), InplaceDimShuffle{1,0}(AdvancedSubtensor1.0), Elemwise{true_div,no_inplace}(AdvancedSubtensor1.0, InplaceDimShuffle{0,x}.0)]]\n\nBacktrace when the node is created(use Theano flag traceback.limit=N to make it longer):\n  File \"/home/nilavro/irleak/lib/python3.5/site-packages/IPython/core/interactiveshell.py\", line 2850, in run_ast_nodes\n    if self.run_code(code, result):\n  File \"/home/nilavro/irleak/lib/python3.5/site-packages/IPython/core/interactiveshell.py\", line 2910, in run_code\n    exec(code_obj, self.user_global_ns, self.user_ns)\n  File \"<ipython-input-29-dd250bb80e06>\", line 18, in <module>\n    states = HMMStatesN('states',PA=PA, P=P, N_states=N_states, shape=(len(y),))\n  File \"/home/nilavro/irleak/lib/python3.5/site-packages/pymc3/distributions/distribution.py\", line 37, in __new__\n    return model.Var(name, dist, data, total_size)\n  File \"/home/nilavro/irleak/lib/python3.5/site-packages/pymc3/model.py\", line 752, in Var\n    total_size=total_size, model=self)\n  File \"/home/nilavro/irleak/lib/python3.5/site-packages/pymc3/model.py\", line 1133, in __init__\n    self.logp_sum_unscaledt = distribution.logp_sum(self)\n  File \"/home/nilavro/irleak/lib/python3.5/site-packages/pymc3/distributions/distribution.py\", line 114, in logp_sum\n    return tt.sum(self.logp(*args, **kwargs))\n  File \"<ipython-input-7-f2e5eb008699>\", line 35, in logp\n    PS = P[x[:-1]]\n  File \"<ipython-input-29-dd250bb80e06>\", line 18, in <module>\n    states = HMMStatesN('states',PA=PA, P=P, N_states=N_states, shape=(len(y),))\n  File \"/home/nilavro/irleak/lib/python3.5/site-packages/pymc3/distributions/distribution.py\", line 37, in __new__\n    return model.Var(name, dist, data, total_size)\n  File \"/home/nilavro/irleak/lib/python3.5/site-packages/pymc3/model.py\", line 752, in Var\n    total_size=total_size, model=self)\n  File \"/home/nilavro/irleak/lib/python3.5/site-packages/pymc3/model.py\", line 1133, in __init__\n    self.logp_sum_unscaledt = distribution.logp_sum(self)\n  File \"/home/nilavro/irleak/lib/python3.5/site-packages/pymc3/distributions/distribution.py\", line 114, in logp_sum\n    return tt.sum(self.logp(*args, **kwargs))\n  File \"<ipython-input-7-f2e5eb008699>\", line 38, in logp\n    ou_like = pm.Categorical.dist(PS).logp(x_i)\n  File \"/home/nilavro/irleak/lib/python3.5/site-packages/pymc3/distributions/distribution.py\", line 47, in dist\n    dist.__init__(*args, **kwargs)\n  File \"/home/nilavro/irleak/lib/python3.5/site-packages/pymc3/distributions/discrete.py\", line 510, in __init__\n    self.p = (p.T / tt.sum(p, -1)).T\n\nHINT: Use the Theano flag 'exception_verbosity=high' for a debugprint and storage map footprint of this apply node.",
     "output_type": "error",
     "traceback": [
      "\u001b[0;31m---------------------------------------------------------------------------\u001b[0m",
      "\u001b[0;31mIndexError\u001b[0m                                Traceback (most recent call last)",
      "\u001b[0;32m~/irleak/lib/python3.5/site-packages/theano/compile/function_module.py\u001b[0m in \u001b[0;36m__call__\u001b[0;34m(self, *args, **kwargs)\u001b[0m\n\u001b[1;32m    902\u001b[0m             \u001b[0moutputs\u001b[0m \u001b[0;34m=\u001b[0m\u001b[0;31m\\\u001b[0m\u001b[0;34m\u001b[0m\u001b[0m\n\u001b[0;32m--> 903\u001b[0;31m                 \u001b[0mself\u001b[0m\u001b[0;34m.\u001b[0m\u001b[0mfn\u001b[0m\u001b[0;34m(\u001b[0m\u001b[0;34m)\u001b[0m \u001b[0;32mif\u001b[0m \u001b[0moutput_subset\u001b[0m \u001b[0;32mis\u001b[0m \u001b[0;32mNone\u001b[0m \u001b[0;32melse\u001b[0m\u001b[0;31m\\\u001b[0m\u001b[0;34m\u001b[0m\u001b[0m\n\u001b[0m\u001b[1;32m    904\u001b[0m                 \u001b[0mself\u001b[0m\u001b[0;34m.\u001b[0m\u001b[0mfn\u001b[0m\u001b[0;34m(\u001b[0m\u001b[0moutput_subset\u001b[0m\u001b[0;34m=\u001b[0m\u001b[0moutput_subset\u001b[0m\u001b[0;34m)\u001b[0m\u001b[0;34m\u001b[0m\u001b[0m\n",
      "\u001b[0;31mIndexError\u001b[0m: index 2 is out of bounds for size 2",
      "\nDuring handling of the above exception, another exception occurred:\n",
      "\u001b[0;31mIndexError\u001b[0m                                Traceback (most recent call last)",
      "\u001b[0;32m<timed exec>\u001b[0m in \u001b[0;36m<module>\u001b[0;34m()\u001b[0m\n",
      "\u001b[0;32m~/irleak/lib/python3.5/site-packages/pymc3/variational/inference.py\u001b[0m in \u001b[0;36mfit\u001b[0;34m(n, local_rv, method, model, random_seed, start, inf_kwargs, **kwargs)\u001b[0m\n\u001b[1;32m    754\u001b[0m                         \u001b[0;34m'or Inference instance'\u001b[0m \u001b[0;34m%\u001b[0m\u001b[0;34m\u001b[0m\u001b[0m\n\u001b[1;32m    755\u001b[0m                         set(_select.keys()))\n\u001b[0;32m--> 756\u001b[0;31m     \u001b[0;32mreturn\u001b[0m \u001b[0minference\u001b[0m\u001b[0;34m.\u001b[0m\u001b[0mfit\u001b[0m\u001b[0;34m(\u001b[0m\u001b[0mn\u001b[0m\u001b[0;34m,\u001b[0m \u001b[0;34m**\u001b[0m\u001b[0mkwargs\u001b[0m\u001b[0;34m)\u001b[0m\u001b[0;34m\u001b[0m\u001b[0m\n\u001b[0m",
      "\u001b[0;32m~/irleak/lib/python3.5/site-packages/pymc3/variational/inference.py\u001b[0m in \u001b[0;36mfit\u001b[0;34m(self, n, score, callbacks, progressbar, **kwargs)\u001b[0m\n\u001b[1;32m    133\u001b[0m         \u001b[0;32mwith\u001b[0m \u001b[0mtqdm\u001b[0m\u001b[0;34m.\u001b[0m\u001b[0mtrange\u001b[0m\u001b[0;34m(\u001b[0m\u001b[0mn\u001b[0m\u001b[0;34m,\u001b[0m \u001b[0mdisable\u001b[0m\u001b[0;34m=\u001b[0m\u001b[0;32mnot\u001b[0m \u001b[0mprogressbar\u001b[0m\u001b[0;34m)\u001b[0m \u001b[0;32mas\u001b[0m \u001b[0mprogress\u001b[0m\u001b[0;34m:\u001b[0m\u001b[0;34m\u001b[0m\u001b[0m\n\u001b[1;32m    134\u001b[0m             \u001b[0;32mif\u001b[0m \u001b[0mscore\u001b[0m\u001b[0;34m:\u001b[0m\u001b[0;34m\u001b[0m\u001b[0m\n\u001b[0;32m--> 135\u001b[0;31m                 \u001b[0mstate\u001b[0m \u001b[0;34m=\u001b[0m \u001b[0mself\u001b[0m\u001b[0;34m.\u001b[0m\u001b[0m_iterate_with_loss\u001b[0m\u001b[0;34m(\u001b[0m\u001b[0;36m0\u001b[0m\u001b[0;34m,\u001b[0m \u001b[0mn\u001b[0m\u001b[0;34m,\u001b[0m \u001b[0mstep_func\u001b[0m\u001b[0;34m,\u001b[0m \u001b[0mprogress\u001b[0m\u001b[0;34m,\u001b[0m \u001b[0mcallbacks\u001b[0m\u001b[0;34m)\u001b[0m\u001b[0;34m\u001b[0m\u001b[0m\n\u001b[0m\u001b[1;32m    136\u001b[0m             \u001b[0;32melse\u001b[0m\u001b[0;34m:\u001b[0m\u001b[0;34m\u001b[0m\u001b[0m\n\u001b[1;32m    137\u001b[0m                 \u001b[0mstate\u001b[0m \u001b[0;34m=\u001b[0m \u001b[0mself\u001b[0m\u001b[0;34m.\u001b[0m\u001b[0m_iterate_without_loss\u001b[0m\u001b[0;34m(\u001b[0m\u001b[0;36m0\u001b[0m\u001b[0;34m,\u001b[0m \u001b[0mn\u001b[0m\u001b[0;34m,\u001b[0m \u001b[0mstep_func\u001b[0m\u001b[0;34m,\u001b[0m \u001b[0mprogress\u001b[0m\u001b[0;34m,\u001b[0m \u001b[0mcallbacks\u001b[0m\u001b[0;34m)\u001b[0m\u001b[0;34m\u001b[0m\u001b[0m\n",
      "\u001b[0;32m~/irleak/lib/python3.5/site-packages/pymc3/variational/inference.py\u001b[0m in \u001b[0;36m_iterate_with_loss\u001b[0;34m(self, s, n, step_func, progress, callbacks)\u001b[0m\n\u001b[1;32m    175\u001b[0m         \u001b[0;32mtry\u001b[0m\u001b[0;34m:\u001b[0m\u001b[0;34m\u001b[0m\u001b[0m\n\u001b[1;32m    176\u001b[0m             \u001b[0;32mfor\u001b[0m \u001b[0mi\u001b[0m \u001b[0;32min\u001b[0m \u001b[0mprogress\u001b[0m\u001b[0;34m:\u001b[0m\u001b[0;34m\u001b[0m\u001b[0m\n\u001b[0;32m--> 177\u001b[0;31m                 \u001b[0me\u001b[0m \u001b[0;34m=\u001b[0m \u001b[0mstep_func\u001b[0m\u001b[0;34m(\u001b[0m\u001b[0;34m)\u001b[0m\u001b[0;34m\u001b[0m\u001b[0m\n\u001b[0m\u001b[1;32m    178\u001b[0m                 \u001b[0;32mif\u001b[0m \u001b[0mnp\u001b[0m\u001b[0;34m.\u001b[0m\u001b[0misnan\u001b[0m\u001b[0;34m(\u001b[0m\u001b[0me\u001b[0m\u001b[0;34m)\u001b[0m\u001b[0;34m:\u001b[0m  \u001b[0;31m# pragma: no cover\u001b[0m\u001b[0;34m\u001b[0m\u001b[0m\n\u001b[1;32m    179\u001b[0m                     \u001b[0mscores\u001b[0m \u001b[0;34m=\u001b[0m \u001b[0mscores\u001b[0m\u001b[0;34m[\u001b[0m\u001b[0;34m:\u001b[0m\u001b[0mi\u001b[0m\u001b[0;34m]\u001b[0m\u001b[0;34m\u001b[0m\u001b[0m\n",
      "\u001b[0;32m~/irleak/lib/python3.5/site-packages/theano/compile/function_module.py\u001b[0m in \u001b[0;36m__call__\u001b[0;34m(self, *args, **kwargs)\u001b[0m\n\u001b[1;32m    915\u001b[0m                     \u001b[0mnode\u001b[0m\u001b[0;34m=\u001b[0m\u001b[0mself\u001b[0m\u001b[0;34m.\u001b[0m\u001b[0mfn\u001b[0m\u001b[0;34m.\u001b[0m\u001b[0mnodes\u001b[0m\u001b[0;34m[\u001b[0m\u001b[0mself\u001b[0m\u001b[0;34m.\u001b[0m\u001b[0mfn\u001b[0m\u001b[0;34m.\u001b[0m\u001b[0mposition_of_error\u001b[0m\u001b[0;34m]\u001b[0m\u001b[0;34m,\u001b[0m\u001b[0;34m\u001b[0m\u001b[0m\n\u001b[1;32m    916\u001b[0m                     \u001b[0mthunk\u001b[0m\u001b[0;34m=\u001b[0m\u001b[0mthunk\u001b[0m\u001b[0;34m,\u001b[0m\u001b[0;34m\u001b[0m\u001b[0m\n\u001b[0;32m--> 917\u001b[0;31m                     storage_map=getattr(self.fn, 'storage_map', None))\n\u001b[0m\u001b[1;32m    918\u001b[0m             \u001b[0;32melse\u001b[0m\u001b[0;34m:\u001b[0m\u001b[0;34m\u001b[0m\u001b[0m\n\u001b[1;32m    919\u001b[0m                 \u001b[0;31m# old-style linkers raise their own exceptions\u001b[0m\u001b[0;34m\u001b[0m\u001b[0;34m\u001b[0m\u001b[0m\n",
      "\u001b[0;32m~/irleak/lib/python3.5/site-packages/theano/gof/link.py\u001b[0m in \u001b[0;36mraise_with_op\u001b[0;34m(node, thunk, exc_info, storage_map)\u001b[0m\n\u001b[1;32m    323\u001b[0m         \u001b[0;31m# extra long error message in that case.\u001b[0m\u001b[0;34m\u001b[0m\u001b[0;34m\u001b[0m\u001b[0m\n\u001b[1;32m    324\u001b[0m         \u001b[0;32mpass\u001b[0m\u001b[0;34m\u001b[0m\u001b[0m\n\u001b[0;32m--> 325\u001b[0;31m     \u001b[0mreraise\u001b[0m\u001b[0;34m(\u001b[0m\u001b[0mexc_type\u001b[0m\u001b[0;34m,\u001b[0m \u001b[0mexc_value\u001b[0m\u001b[0;34m,\u001b[0m \u001b[0mexc_trace\u001b[0m\u001b[0;34m)\u001b[0m\u001b[0;34m\u001b[0m\u001b[0m\n\u001b[0m\u001b[1;32m    326\u001b[0m \u001b[0;34m\u001b[0m\u001b[0m\n\u001b[1;32m    327\u001b[0m \u001b[0;34m\u001b[0m\u001b[0m\n",
      "\u001b[0;32m~/irleak/lib/python3.5/site-packages/six.py\u001b[0m in \u001b[0;36mreraise\u001b[0;34m(tp, value, tb)\u001b[0m\n\u001b[1;32m    690\u001b[0m                 \u001b[0mvalue\u001b[0m \u001b[0;34m=\u001b[0m \u001b[0mtp\u001b[0m\u001b[0;34m(\u001b[0m\u001b[0;34m)\u001b[0m\u001b[0;34m\u001b[0m\u001b[0m\n\u001b[1;32m    691\u001b[0m             \u001b[0;32mif\u001b[0m \u001b[0mvalue\u001b[0m\u001b[0;34m.\u001b[0m\u001b[0m__traceback__\u001b[0m \u001b[0;32mis\u001b[0m \u001b[0;32mnot\u001b[0m \u001b[0mtb\u001b[0m\u001b[0;34m:\u001b[0m\u001b[0;34m\u001b[0m\u001b[0m\n\u001b[0;32m--> 692\u001b[0;31m                 \u001b[0;32mraise\u001b[0m \u001b[0mvalue\u001b[0m\u001b[0;34m.\u001b[0m\u001b[0mwith_traceback\u001b[0m\u001b[0;34m(\u001b[0m\u001b[0mtb\u001b[0m\u001b[0;34m)\u001b[0m\u001b[0;34m\u001b[0m\u001b[0m\n\u001b[0m\u001b[1;32m    693\u001b[0m             \u001b[0;32mraise\u001b[0m \u001b[0mvalue\u001b[0m\u001b[0;34m\u001b[0m\u001b[0m\n\u001b[1;32m    694\u001b[0m         \u001b[0;32mfinally\u001b[0m\u001b[0;34m:\u001b[0m\u001b[0;34m\u001b[0m\u001b[0m\n",
      "\u001b[0;32m~/irleak/lib/python3.5/site-packages/theano/compile/function_module.py\u001b[0m in \u001b[0;36m__call__\u001b[0;34m(self, *args, **kwargs)\u001b[0m\n\u001b[1;32m    901\u001b[0m         \u001b[0;32mtry\u001b[0m\u001b[0;34m:\u001b[0m\u001b[0;34m\u001b[0m\u001b[0m\n\u001b[1;32m    902\u001b[0m             \u001b[0moutputs\u001b[0m \u001b[0;34m=\u001b[0m\u001b[0;31m\\\u001b[0m\u001b[0;34m\u001b[0m\u001b[0m\n\u001b[0;32m--> 903\u001b[0;31m                 \u001b[0mself\u001b[0m\u001b[0;34m.\u001b[0m\u001b[0mfn\u001b[0m\u001b[0;34m(\u001b[0m\u001b[0;34m)\u001b[0m \u001b[0;32mif\u001b[0m \u001b[0moutput_subset\u001b[0m \u001b[0;32mis\u001b[0m \u001b[0;32mNone\u001b[0m \u001b[0;32melse\u001b[0m\u001b[0;31m\\\u001b[0m\u001b[0;34m\u001b[0m\u001b[0m\n\u001b[0m\u001b[1;32m    904\u001b[0m                 \u001b[0mself\u001b[0m\u001b[0;34m.\u001b[0m\u001b[0mfn\u001b[0m\u001b[0;34m(\u001b[0m\u001b[0moutput_subset\u001b[0m\u001b[0;34m=\u001b[0m\u001b[0moutput_subset\u001b[0m\u001b[0;34m)\u001b[0m\u001b[0;34m\u001b[0m\u001b[0m\n\u001b[1;32m    905\u001b[0m         \u001b[0;32mexcept\u001b[0m \u001b[0mException\u001b[0m\u001b[0;34m:\u001b[0m\u001b[0;34m\u001b[0m\u001b[0m\n",
      "\u001b[0;31mIndexError\u001b[0m: index 2 is out of bounds for size 2\nApply node that caused the error: AdvancedSubtensor1(P, Subtensor{:int64:}.0)\nToposort index: 82\nInputs types: [TensorType(float64, matrix), TensorType(int64, vector)]\nInputs shapes: [(2, 2), (999,)]\nInputs strides: [(8, 16), (8,)]\nInputs values: [array([[0.2485256 , 0.7514744 ],\n       [0.62193988, 0.37806012]]), 'not shown']\nOutputs clients: [[Sum{axis=[1], acc_dtype=float64}(AdvancedSubtensor1.0), InplaceDimShuffle{1,0}(AdvancedSubtensor1.0), Elemwise{true_div,no_inplace}(AdvancedSubtensor1.0, InplaceDimShuffle{0,x}.0)]]\n\nBacktrace when the node is created(use Theano flag traceback.limit=N to make it longer):\n  File \"/home/nilavro/irleak/lib/python3.5/site-packages/IPython/core/interactiveshell.py\", line 2850, in run_ast_nodes\n    if self.run_code(code, result):\n  File \"/home/nilavro/irleak/lib/python3.5/site-packages/IPython/core/interactiveshell.py\", line 2910, in run_code\n    exec(code_obj, self.user_global_ns, self.user_ns)\n  File \"<ipython-input-29-dd250bb80e06>\", line 18, in <module>\n    states = HMMStatesN('states',PA=PA, P=P, N_states=N_states, shape=(len(y),))\n  File \"/home/nilavro/irleak/lib/python3.5/site-packages/pymc3/distributions/distribution.py\", line 37, in __new__\n    return model.Var(name, dist, data, total_size)\n  File \"/home/nilavro/irleak/lib/python3.5/site-packages/pymc3/model.py\", line 752, in Var\n    total_size=total_size, model=self)\n  File \"/home/nilavro/irleak/lib/python3.5/site-packages/pymc3/model.py\", line 1133, in __init__\n    self.logp_sum_unscaledt = distribution.logp_sum(self)\n  File \"/home/nilavro/irleak/lib/python3.5/site-packages/pymc3/distributions/distribution.py\", line 114, in logp_sum\n    return tt.sum(self.logp(*args, **kwargs))\n  File \"<ipython-input-7-f2e5eb008699>\", line 35, in logp\n    PS = P[x[:-1]]\n  File \"<ipython-input-29-dd250bb80e06>\", line 18, in <module>\n    states = HMMStatesN('states',PA=PA, P=P, N_states=N_states, shape=(len(y),))\n  File \"/home/nilavro/irleak/lib/python3.5/site-packages/pymc3/distributions/distribution.py\", line 37, in __new__\n    return model.Var(name, dist, data, total_size)\n  File \"/home/nilavro/irleak/lib/python3.5/site-packages/pymc3/model.py\", line 752, in Var\n    total_size=total_size, model=self)\n  File \"/home/nilavro/irleak/lib/python3.5/site-packages/pymc3/model.py\", line 1133, in __init__\n    self.logp_sum_unscaledt = distribution.logp_sum(self)\n  File \"/home/nilavro/irleak/lib/python3.5/site-packages/pymc3/distributions/distribution.py\", line 114, in logp_sum\n    return tt.sum(self.logp(*args, **kwargs))\n  File \"<ipython-input-7-f2e5eb008699>\", line 38, in logp\n    ou_like = pm.Categorical.dist(PS).logp(x_i)\n  File \"/home/nilavro/irleak/lib/python3.5/site-packages/pymc3/distributions/distribution.py\", line 47, in dist\n    dist.__init__(*args, **kwargs)\n  File \"/home/nilavro/irleak/lib/python3.5/site-packages/pymc3/distributions/discrete.py\", line 510, in __init__\n    self.p = (p.T / tt.sum(p, -1)).T\n\nHINT: Use the Theano flag 'exception_verbosity=high' for a debugprint and storage map footprint of this apply node."
     ]
    }
   ],
   "source": [
    "with model:\n",
    "    %time approx = pm.fit(method = 'advi')"
   ]
  },
  {
   "cell_type": "markdown",
   "metadata": {},
   "source": [
    "#  ROUGH "
   ]
  },
  {
   "cell_type": "code",
   "execution_count": 13,
   "metadata": {},
   "outputs": [],
   "source": [
    "import numpy as np\n",
    "import pymc3 as pm\n",
    "import pdb"
   ]
  },
  {
   "cell_type": "code",
   "execution_count": 14,
   "metadata": {},
   "outputs": [],
   "source": [
    "data = np.loadtxt('test_data.txt',\n",
    "                 dtype=np.dtype([('state', np.uint8),\n",
    "                                 ('emission', np.float)]),\n",
    "                 delimiter=',',\n",
    "                 skiprows=1)"
   ]
  },
  {
   "cell_type": "code",
   "execution_count": null,
   "metadata": {},
   "outputs": [],
   "source": [
    "def unconditionalProbability(Ptrans):\n",
    "\"\"\"Compute the unconditional probability for the states of a Markov chain.\"\"\"\n",
    "\n",
    "    m = Ptrans.shape[0]\n",
    "\n",
    "    P = np.column_stack((Ptrans, 1. - Ptrans.sum(axis=1)))\n",
    "\n",
    "    I = np.eye(m)\n",
    "    U = np.ones((m, m))\n",
    "    u = np.ones(m)\n",
    "\n",
    "    return np.linalg.solve((I - P + U).T, u)"
   ]
  },
  {
   "cell_type": "code",
   "execution_count": null,
   "metadata": {},
   "outputs": [],
   "source": [
    "# Two state model for simplicity.\n",
    "N_states = 2\n",
    "N_chain = len(data)"
   ]
  },
  {
   "cell_type": "code",
   "execution_count": null,
   "metadata": {},
   "outputs": [],
   "source": [
    "# Transition probability stochastic\n",
    "theta = np.ones(N_states) + 1."
   ]
  },
  {
   "cell_type": "code",
   "execution_count": 15,
   "metadata": {},
   "outputs": [],
   "source": [
    "def Ptrans_logp(value, theta):\n",
    "    logp = 0.\n",
    "    for i in range(value.shape[0]):\n",
    "        logp = logp + pm.Dirichlet.dist(value[i], theta)\n",
    "    return logp"
   ]
  },
  {
   "cell_type": "code",
   "execution_count": 16,
   "metadata": {},
   "outputs": [],
   "source": [
    "def Ptrans_random(theta):\n",
    "    return pm.rdirichlet.dist(theta, size=len(theta))"
   ]
  },
  {
   "cell_type": "code",
   "execution_count": 25,
   "metadata": {},
   "outputs": [
    {
     "ename": "TypeError",
     "evalue": "__init__() got an unexpected keyword argument 'parents'",
     "output_type": "error",
     "traceback": [
      "\u001b[0;31m---------------------------------------------------------------------------\u001b[0m",
      "\u001b[0;31mTypeError\u001b[0m                                 Traceback (most recent call last)",
      "\u001b[0;32m<ipython-input-25-bb57abc13149>\u001b[0m in \u001b[0;36m<module>\u001b[0;34m()\u001b[0m\n\u001b[1;32m      1\u001b[0m Ptrans = pm.DensityDist.dist('Ptrans',  Ptrans_logp,         \n\u001b[1;32m      2\u001b[0m                         \u001b[0mparents\u001b[0m\u001b[0;34m=\u001b[0m\u001b[0;34m{\u001b[0m\u001b[0;34m'theta'\u001b[0m\u001b[0;34m:\u001b[0m \u001b[0mtheta\u001b[0m\u001b[0;34m}\u001b[0m\u001b[0;34m,\u001b[0m\u001b[0;34m\u001b[0m\u001b[0m\n\u001b[0;32m----> 3\u001b[0;31m                         random=Ptrans_random)\n\u001b[0m",
      "\u001b[0;32m~/irleak/lib/python3.5/site-packages/pymc3/distributions/distribution.py\u001b[0m in \u001b[0;36mdist\u001b[0;34m(cls, *args, **kwargs)\u001b[0m\n\u001b[1;32m     45\u001b[0m     \u001b[0;32mdef\u001b[0m \u001b[0mdist\u001b[0m\u001b[0;34m(\u001b[0m\u001b[0mcls\u001b[0m\u001b[0;34m,\u001b[0m \u001b[0;34m*\u001b[0m\u001b[0margs\u001b[0m\u001b[0;34m,\u001b[0m \u001b[0;34m**\u001b[0m\u001b[0mkwargs\u001b[0m\u001b[0;34m)\u001b[0m\u001b[0;34m:\u001b[0m\u001b[0;34m\u001b[0m\u001b[0m\n\u001b[1;32m     46\u001b[0m         \u001b[0mdist\u001b[0m \u001b[0;34m=\u001b[0m \u001b[0mobject\u001b[0m\u001b[0;34m.\u001b[0m\u001b[0m__new__\u001b[0m\u001b[0;34m(\u001b[0m\u001b[0mcls\u001b[0m\u001b[0;34m)\u001b[0m\u001b[0;34m\u001b[0m\u001b[0m\n\u001b[0;32m---> 47\u001b[0;31m         \u001b[0mdist\u001b[0m\u001b[0;34m.\u001b[0m\u001b[0m__init__\u001b[0m\u001b[0;34m(\u001b[0m\u001b[0;34m*\u001b[0m\u001b[0margs\u001b[0m\u001b[0;34m,\u001b[0m \u001b[0;34m**\u001b[0m\u001b[0mkwargs\u001b[0m\u001b[0;34m)\u001b[0m\u001b[0;34m\u001b[0m\u001b[0m\n\u001b[0m\u001b[1;32m     48\u001b[0m         \u001b[0;32mreturn\u001b[0m \u001b[0mdist\u001b[0m\u001b[0;34m\u001b[0m\u001b[0m\n\u001b[1;32m     49\u001b[0m \u001b[0;34m\u001b[0m\u001b[0m\n",
      "\u001b[0;32m~/irleak/lib/python3.5/site-packages/pymc3/distributions/distribution.py\u001b[0m in \u001b[0;36m__init__\u001b[0;34m(self, logp, shape, dtype, testval, *args, **kwargs)\u001b[0m\n\u001b[1;32m    183\u001b[0m             \u001b[0mdtype\u001b[0m \u001b[0;34m=\u001b[0m \u001b[0mtheano\u001b[0m\u001b[0;34m.\u001b[0m\u001b[0mconfig\u001b[0m\u001b[0;34m.\u001b[0m\u001b[0mfloatX\u001b[0m\u001b[0;34m\u001b[0m\u001b[0m\n\u001b[1;32m    184\u001b[0m         super(DensityDist, self).__init__(\n\u001b[0;32m--> 185\u001b[0;31m             shape, dtype, testval, *args, **kwargs)\n\u001b[0m\u001b[1;32m    186\u001b[0m         \u001b[0mself\u001b[0m\u001b[0;34m.\u001b[0m\u001b[0mlogp\u001b[0m \u001b[0;34m=\u001b[0m \u001b[0mlogp\u001b[0m\u001b[0;34m\u001b[0m\u001b[0m\n\u001b[1;32m    187\u001b[0m \u001b[0;34m\u001b[0m\u001b[0m\n",
      "\u001b[0;31mTypeError\u001b[0m: __init__() got an unexpected keyword argument 'parents'"
     ]
    }
   ],
   "source": [
    "Ptrans = pm.DensityDist.dist('Ptrans',  Ptrans_logp,         \n",
    "                        parents={'theta': theta},\n",
    "                        random=Ptrans_random)\n",
    "\n",
    "\n",
    "beta = pymc.DensityDist('Ptrans', lambda value: -1.5 * T.log(1 + value**2), testval=0)\n"
   ]
  },
  {
   "cell_type": "code",
   "execution_count": 17,
   "metadata": {},
   "outputs": [
    {
     "ename": "NameError",
     "evalue": "name 'Ptrans' is not defined",
     "output_type": "error",
     "traceback": [
      "\u001b[0;31m---------------------------------------------------------------------------\u001b[0m",
      "\u001b[0;31mNameError\u001b[0m                                 Traceback (most recent call last)",
      "\u001b[0;32m<ipython-input-17-4f24e7cba848>\u001b[0m in \u001b[0;36m<module>\u001b[0;34m()\u001b[0m\n\u001b[1;32m      1\u001b[0m \u001b[0;31m#Hidden states stochastic\u001b[0m\u001b[0;34m\u001b[0m\u001b[0;34m\u001b[0m\u001b[0m\n\u001b[0;32m----> 2\u001b[0;31m \u001b[0;32mdef\u001b[0m \u001b[0mstates_logp\u001b[0m\u001b[0;34m(\u001b[0m\u001b[0mvalue\u001b[0m\u001b[0;34m,\u001b[0m \u001b[0mPtrans\u001b[0m\u001b[0;34m=\u001b[0m\u001b[0mPtrans\u001b[0m\u001b[0;34m)\u001b[0m\u001b[0;34m:\u001b[0m\u001b[0;34m\u001b[0m\u001b[0m\n\u001b[0m\u001b[1;32m      3\u001b[0m \u001b[0;34m\u001b[0m\u001b[0m\n\u001b[1;32m      4\u001b[0m     \u001b[0;32mif\u001b[0m \u001b[0msum\u001b[0m\u001b[0;34m(\u001b[0m\u001b[0mvalue\u001b[0m\u001b[0;34m>\u001b[0m\u001b[0;36m1\u001b[0m\u001b[0;34m)\u001b[0m\u001b[0;34m:\u001b[0m\u001b[0;34m\u001b[0m\u001b[0m\n\u001b[1;32m      5\u001b[0m         \u001b[0;32mreturn\u001b[0m \u001b[0;34m-\u001b[0m\u001b[0mnp\u001b[0m\u001b[0;34m.\u001b[0m\u001b[0minf\u001b[0m\u001b[0;34m\u001b[0m\u001b[0m\n",
      "\u001b[0;31mNameError\u001b[0m: name 'Ptrans' is not defined"
     ]
    }
   ],
   "source": [
    "#Hidden states stochastic\n",
    "def states_logp(value, Ptrans=Ptrans):\n",
    "    \n",
    "    if sum(value>1):\n",
    "        return -np.inf\n",
    "\n",
    "    P = np.column_stack((Ptrans, 1. - Ptrans.sum(axis=1)))\n",
    "\n",
    "    Pinit = unconditionalProbability(Ptrans)\n",
    "\n",
    "    logp = pymc.categorical_like(value[0], Pinit)\n",
    "\n",
    "    for i in range(1, len(value)):\n",
    "        try:\n",
    "            logp = logp + pm.categorical_like(value[i], P[value[i-1]])\n",
    "        except:\n",
    "            pdb.set_trace()\n",
    "\n",
    "    return logp"
   ]
  },
  {
   "cell_type": "code",
   "execution_count": null,
   "metadata": {},
   "outputs": [],
   "source": [
    "def states_random(Ptrans=Ptrans, N_chain=N_chain):\n",
    "   P = np.column_stack((Ptrans, 1. - Ptrans.sum(axis=1)))\n",
    "\n",
    "   Pinit = unconditionalProbability(Ptrans)\n",
    "\n",
    "   states = np.empty(N_chain, dtype=np.uint8)\n",
    "\n",
    "   states[0] = pymc.rcategorical(Pinit)\n",
    "\n",
    "   for i in range(1, N_chain):\n",
    "       states[i] = pymc.rcategorical(P[states[i-1]])\n",
    "\n",
    "   return states\n",
    "\n",
    "states = pymc.Stochastic(logp=states_logp,\n",
    "                        doc='Hidden states',\n",
    "                        name='states',\n",
    "                        parents={'Ptrans': Ptrans},\n",
    "                        random=states_random,\n",
    "                        dtype=np.uint8)\n",
    "\n",
    "# Gaussian emission parameters\n",
    "mu = pymc.Normal('mu', 0., 1.e-6, value=np.random.randn(N_states))\n",
    "sigma = pymc.Uniform('sigma', 0., 100.,\n",
    "value=np.random.rand(N_states))\n",
    "\n",
    "y = pymc.Normal('y', mu[states], 1./sigma[states]**2,\n",
    "value=data['emission'], observed=True)"
   ]
  }
 ],
 "metadata": {
  "kernelspec": {
   "display_name": "Python 3",
   "language": "python",
   "name": "python3"
  },
  "language_info": {
   "codemirror_mode": {
    "name": "ipython",
    "version": 3
   },
   "file_extension": ".py",
   "mimetype": "text/x-python",
   "name": "python",
   "nbconvert_exporter": "python",
   "pygments_lexer": "ipython3",
   "version": "3.5.2"
  }
 },
 "nbformat": 4,
 "nbformat_minor": 2
}
