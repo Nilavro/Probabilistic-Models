{
 "cells": [
  {
   "cell_type": "markdown",
   "metadata": {},
   "source": [
    "### Let $X_i$ $\\in \\{H,T\\}$ be the outcome of $i_{th}$ toss. If we know $\\theta$, we automatically know the distribution of $X_i$: \n",
    "\n",
    "\n",
    "$$p(X_i=H|θ)=θ$$\n",
    "\n",
    "\n",
    "### Now, $$ p(X = H|θ) = \\theta $$ &  $$p(X = T | \\theta) = 1 - \\theta$$\n",
    "\n",
    "### If there are n coin tosses $$p(X|\\theta) = \\prod_{i=1}^n p_i$$\n",
    " \n"
   ]
  },
  {
   "cell_type": "markdown",
   "metadata": {},
   "source": [
    "# Posterior $\\propto$ Prior Likelihood\n",
    "\n",
    "### p( $\\theta$ | D)  $\\propto $ p( $\\theta $) p(D |  $\\theta $) \n",
    "\n",
    "###                                            Beta                 Binomial "
   ]
  },
  {
   "cell_type": "code",
   "execution_count": 20,
   "metadata": {},
   "outputs": [],
   "source": [
    "import numpy as np\n",
    "import pymc3 as pm\n",
    "import scipy as sp\n",
    "from matplotlib import pylab as plt"
   ]
  },
  {
   "cell_type": "code",
   "execution_count": 8,
   "metadata": {},
   "outputs": [
    {
     "data": {
      "text/plain": [
       "array([0., 0., 0., 1., 1., 0., 1., 0., 0., 0.])"
      ]
     },
     "execution_count": 8,
     "metadata": {},
     "output_type": "execute_result"
    }
   ],
   "source": [
    "x_beta_binomial =  (np.random.randint(2, size=10)).astype(float)\n",
    "x_beta_binomial"
   ]
  },
  {
   "cell_type": "code",
   "execution_count": 9,
   "metadata": {},
   "outputs": [],
   "source": [
    "with pm.Model() as beta_binomial_model:\n",
    "    p_beta_binomial = pm.Uniform('p', 0., 1.)"
   ]
  },
  {
   "cell_type": "code",
   "execution_count": 10,
   "metadata": {},
   "outputs": [],
   "source": [
    "with beta_binomial_model:\n",
    "    x_obs = pm.Bernoulli('y',p_beta_binomial, observed = x_beta_binomial)"
   ]
  },
  {
   "cell_type": "markdown",
   "metadata": {},
   "source": [
    "# MCMC Solution\n",
    "\n",
    "### We sample this from a markov chain for a long time and estimate the values\n",
    "\n"
   ]
  },
  {
   "cell_type": "code",
   "execution_count": 14,
   "metadata": {},
   "outputs": [],
   "source": [
    "SEED = 42"
   ]
  },
  {
   "cell_type": "code",
   "execution_count": 15,
   "metadata": {},
   "outputs": [
    {
     "name": "stderr",
     "output_type": "stream",
     "text": [
      "Auto-assigning NUTS sampler...\n",
      "Initializing NUTS using jitter+adapt_diag...\n",
      "/home/nilavro/irleak/lib/python3.5/site-packages/pymc3/model.py:384: FutureWarning: Conversion of the second argument of issubdtype from `float` to `np.floating` is deprecated. In future, it will be treated as `np.float64 == np.dtype(float).type`.\n",
      "  if not np.issubdtype(var.dtype, float):\n",
      "Multiprocess sampling (4 chains in 4 jobs)\n",
      "NUTS: [p_interval__]\n",
      " 24%|██▎       | 11941/50500 [00:05<00:16, 2333.06it/s]INFO (theano.gof.compilelock): Waiting for existing lock by process '10881' (I am process '10882')\n",
      "INFO (theano.gof.compilelock): To manually release the lock, delete /home/nilavro/.theano/compiledir_Linux-4.13--generic-x86_64-with-Ubuntu-16.04-xenial-x86_64-3.5.2-64/lock_dir\n",
      "INFO (theano.gof.compilelock): Waiting for existing lock by process '10881' (I am process '10883')\n",
      "INFO (theano.gof.compilelock): To manually release the lock, delete /home/nilavro/.theano/compiledir_Linux-4.13--generic-x86_64-with-Ubuntu-16.04-xenial-x86_64-3.5.2-64/lock_dir\n",
      " 62%|██████▏   | 31386/50500 [00:12<00:07, 2438.40it/s]INFO (theano.gof.compilelock): Waiting for existing lock by process '10882' (I am process '10883')\n",
      "INFO (theano.gof.compilelock): To manually release the lock, delete /home/nilavro/.theano/compiledir_Linux-4.13--generic-x86_64-with-Ubuntu-16.04-xenial-x86_64-3.5.2-64/lock_dir\n",
      "100%|██████████| 50500/50500 [00:21<00:00, 2389.00it/s]\n"
     ]
    }
   ],
   "source": [
    "\n",
    "with beta_binomial_model:\n",
    "    beta_binomial_trace_ = pm.sample(BETA_BINOMIAL_SAMPLES, random_seed=SEED)\n",
    "\n",
    "beta_binomial_trace = beta_binomial_trace_[BETA_BINOMIAL_BURN::BETA_BINOMIAL_THIN]"
   ]
  },
  {
   "cell_type": "code",
   "execution_count": 22,
   "metadata": {},
   "outputs": [
    {
     "data": {
      "image/png": "[encoded data removed]",
      "text/plain": [
       "<matplotlib.figure.Figure at 0x7f8459ba3518>"
      ]
     },
     "metadata": {},
     "output_type": "display_data"
    }
   ],
   "source": [
    "fig, ax = plt.subplots()\n",
    "\n",
    "prior = sp.stats.uniform(0, 1)\n",
    "posterior = sp.stats.beta(1 + x_beta_binomial.sum(), 1 + (1 - x_beta_binomial).sum())\n",
    "\n",
    "plot_x = np.linspace(0, 1, 100)\n",
    "ax.plot(plot_x, prior.pdf(plot_x),\n",
    "        '--', c='k', label='Prior');\n",
    "\n",
    "ax.plot(plot_x, posterior.pdf(plot_x),\n",
    "        c='blue', label='Posterior');\n",
    "\n",
    "ax.set_xticks(np.linspace(0, 1, 5));\n",
    "ax.set_xlabel(r'$p$');\n",
    "\n",
    "ax.set_yticklabels([]);\n",
    "\n",
    "ax.legend(loc=1);\n",
    "\n",
    "bins = np.linspace(0, 1, 50)\n",
    "ax.hist(beta_binomial_trace['p'], bins=bins, normed=True,\n",
    "        color='green', lw=0., alpha=0.5,\n",
    "        label='MCMC approximate posterior');\n",
    "\n",
    "ax.legend();"
   ]
  },
  {
   "cell_type": "markdown",
   "metadata": {},
   "source": [
    "# Variational Inference "
   ]
  },
  {
   "cell_type": "code",
   "execution_count": 25,
   "metadata": {},
   "outputs": [
    {
     "name": "stdout",
     "output_type": "stream",
     "text": [
      "CPU times: user 2.65 ms, sys: 0 ns, total: 2.65 ms\n",
      "Wall time: 2.34 ms\n"
     ]
    }
   ],
   "source": [
    "%%time\n",
    "with beta_binomial_model:\n",
    "    advi_fit = pm.ADVI(n=20000, random_seed=SEED)"
   ]
  },
  {
   "cell_type": "code",
   "execution_count": null,
   "metadata": {},
   "outputs": [],
   "source": []
  }
 ],
 "metadata": {
  "kernelspec": {
   "display_name": "Python 3",
   "language": "python",
   "name": "python3"
  },
  "language_info": {
   "codemirror_mode": {
    "name": "ipython",
    "version": 3
   },
   "file_extension": ".py",
   "mimetype": "text/x-python",
   "name": "python",
   "nbconvert_exporter": "python",
   "pygments_lexer": "ipython3",
   "version": "3.5.2"
  }
 },
 "nbformat": 4,
 "nbformat_minor": 2
}
